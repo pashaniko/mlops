{
 "cells": [
  {
   "cell_type": "code",
   "execution_count": null,
   "metadata": {
    "vscode": {
     "languageId": "shellscript"
    }
   },
   "outputs": [
    {
     "name": "stdout",
     "output_type": "stream",
     "text": [
      "Python 3.10.15\n"
     ]
    }
   ],
   "source": [
    "!python --version"
   ]
  },
  {
   "cell_type": "code",
   "execution_count": null,
   "metadata": {
    "vscode": {
     "languageId": "shellscript"
    }
   },
   "outputs": [
    {
     "name": "stdout",
     "output_type": "stream",
     "text": [
      "\u001b[32mCourtesy Notice\u001b[0m:\n",
      "Pipenv found itself running within a virtual environment,  so it will \n",
      "automatically use that environment, instead of  creating its own for any \n",
      "project. You can set\n",
      "\u001b[1;33mPIPENV_IGNORE_VIRTUALENVS\u001b[0m\u001b[1m=\u001b[0m\u001b[1;36m1\u001b[0m to force pipenv to ignore that environment and \n",
      "create  its own instead.\n",
      "You can set \u001b[1;33mPIPENV_VERBOSITY\u001b[0m\u001b[1m=\u001b[0m\u001b[1;36m-1\u001b[0m to suppress this warning.\n",
      "\u001b[1;32mInstalling pytest...\u001b[0m\n",
      "\u001b[?25lResolving pytest...\n",
      "\u001b[2K\u001b[1mAdded \u001b[0m\u001b[1;32mpytest\u001b[0m to Pipfile's \u001b[33m[dev-packages]\u001b[0m ...\n",
      "\u001b[2K✔ Installation Succeeded...\n",
      "\u001b[2K\u001b[32m⠋\u001b[0m Installing pytest...\n",
      "\u001b[1A\u001b[2K\u001b[1;33mPipfile.lock \u001b[0m\u001b[1;33m(\u001b[0m\u001b[1;33md47c25\u001b[0m\u001b[1;33m)\u001b[0m\u001b[1;33m out of date: run `pipenv lock` to update to \u001b[0m\u001b[1;33m(\u001b[0m\u001b[1;33m467af3\u001b[0m\u001b[1;33m)\u001b[0m\u001b[1;33m...\u001b[0m\n",
      "\u001b[1mRunning\u001b[0m \u001b[33m\u001b[1m$ pipenv lock\u001b[0m \u001b[1mthen\u001b[0m \u001b[33m\u001b[1m$ pipenv sync\u001b[0m\u001b[1m.\u001b[0m\n",
      "Locking\u001b[0m \u001b[33m[packages]\u001b[0m dependencies...\u001b[0m\n",
      "Locking\u001b[0m \u001b[33m[dev-packages]\u001b[0m dependencies...\u001b[0m\n",
      "\u001b[?25lBuilding requirements...\n",
      "\u001b[2KResolving dependencies...ckages...\n",
      "\u001b[2K✔ Success! Locking dev-packages...\n",
      "\u001b[2K\u001b[32m⠼\u001b[0m Locking dev-packages...\n",
      "\u001b[1A\u001b[2K\u001b[1mUpdated Pipfile.lock (d19f4f6009c7ee352967a0bcd43beb6202ab8c76678bd1793437d2128e467af3)!\u001b[0m\n",
      "To activate this project's virtualenv, run \u001b[33mpipenv shell\u001b[0m.\n",
      "Alternatively, run a command inside the virtualenv with \u001b[33mpipenv run\u001b[0m.\n",
      "\u001b[1mInstalling dependencies from Pipfile.lock (467af3)...\u001b[0m\n",
      "\u001b[32mAll dependencies are now up-to-date!\u001b[0m\n",
      "To activate this project's virtualenv, run \u001b[33mpipenv shell\u001b[0m.\n",
      "Alternatively, run a command inside the virtualenv with \u001b[33mpipenv run\u001b[0m.\n",
      "\u001b[1mInstalling dependencies from Pipfile.lock (467af3)...\u001b[0m\n",
      "\u001b[1mInstalling dependencies from Pipfile.lock (467af3)...\u001b[0m\n"
     ]
    }
   ],
   "source": [
    "# Q2. Installing pytest\n",
    "!pipenv install --dev pytest"
   ]
  },
  {
   "cell_type": "code",
   "execution_count": null,
   "metadata": {
    "vscode": {
     "languageId": "shellscript"
    }
   },
   "outputs": [
    {
     "name": "stdout",
     "output_type": "stream",
     "text": [
      "predicted mean duration: 14.203865642696083\n"
     ]
    }
   ],
   "source": [
    "# Q1. Refactoring\n",
    "!python batch.py"
   ]
  },
  {
   "cell_type": "code",
   "execution_count": null,
   "metadata": {
    "vscode": {
     "languageId": "shellscript"
    }
   },
   "outputs": [
    {
     "name": "stdout",
     "output_type": "stream",
     "text": [
      "\u001b[1m============================= test session starts ==============================\u001b[0m\n",
      "platform linux -- Python 3.10.15, pytest-8.3.3, pluggy-1.5.0\n",
      "rootdir: /workspaces/mlops/06-best-practices\n",
      "collected 1 item                                                               \u001b[0m\n",
      "\n",
      "tests/test_batch.py \n",
      " Initial data frame:  PULocationID  DOLocationID tpep_pickup_datetime tpep_dropoff_datetime\n",
      "          NaN           NaN  2023-01-01 01:01:00   2023-01-01 01:10:00\n",
      "          1.0           1.0  2023-01-01 01:02:00   2023-01-01 01:10:00\n",
      "          1.0           NaN  2023-01-01 01:02:00   2023-01-01 01:02:59\n",
      "          3.0           4.0  2023-01-01 01:02:00   2023-01-01 02:02:01\n",
      "\n",
      " Expected data frame: PULocationID DOLocationID tpep_pickup_datetime tpep_dropoff_datetime  duration\n",
      "          -1           -1  2023-01-01 01:01:00   2023-01-01 01:10:00       9.0\n",
      "           1            1  2023-01-01 01:02:00   2023-01-01 01:10:00       8.0\n",
      "\n",
      " Actual data frame: PULocationID DOLocationID tpep_pickup_datetime tpep_dropoff_datetime  duration\n",
      "          -1           -1  2023-01-01 01:01:00   2023-01-01 01:10:00       9.0\n",
      "           1            1  2023-01-01 01:02:00   2023-01-01 01:10:00       8.0\n",
      "\u001b[32m.\u001b[0m\n",
      "\n",
      "\u001b[32m============================== \u001b[32m\u001b[1m1 passed\u001b[0m\u001b[32m in 0.31s\u001b[0m\u001b[32m ===============================\u001b[0m\n"
     ]
    }
   ],
   "source": [
    "# Q3. Writing first unit test\n",
    "!pytest -s ."
   ]
  },
  {
   "cell_type": "code",
   "execution_count": 7,
   "metadata": {},
   "outputs": [
    {
     "name": "stdout",
     "output_type": "stream",
     "text": [
      "env: INPUT_FILE_PATTERN=s3://nyc-duration/in/{year:04d}-{month:02d}.parquet\n",
      "env: OUTPUT_FILE_PATTERN=s3://nyc-duration/out/{year:04d}-{month:02d}.parquet\n",
      "env: S3_ENDPOINT_URL=http://localhost:4566\n"
     ]
    }
   ],
   "source": [
    "%env INPUT_FILE_PATTERN=s3://nyc-duration/in/{year:04d}-{month:02d}.parquet\n",
    "%env OUTPUT_FILE_PATTERN=s3://nyc-duration/out/{year:04d}-{month:02d}.parquet\n",
    "%env S3_ENDPOINT_URL=http://localhost:4566"
   ]
  },
  {
   "cell_type": "code",
   "execution_count": 25,
   "metadata": {
    "vscode": {
     "languageId": "shellscript"
    }
   },
   "outputs": [
    {
     "name": "stdout",
     "output_type": "stream",
     "text": [
      "make_bucket: nyc-duration\n",
      "s3://nyc-duration/in/2023-01.parquet\n",
      "\n",
      " Initial data frame: \n",
      "    PULocationID  DOLocationID tpep_pickup_datetime tpep_dropoff_datetime\n",
      "0           NaN           NaN  2023-01-01 01:01:00   2023-01-01 01:10:00\n",
      "1           1.0           1.0  2023-01-01 01:02:00   2023-01-01 01:10:00\n",
      "2           1.0           NaN  2023-01-01 01:02:00   2023-01-01 01:02:59\n",
      "3           3.0           4.0  2023-01-01 01:02:00   2023-01-01 02:02:01\n",
      "files under s3://nyc-duration/in/ bucket\n",
      "2024-11-30 00:05:55       3185 2023-01.parquet\n"
     ]
    }
   ],
   "source": [
    "# Q4. Mocking S3 with Localstack  \n",
    "# and\n",
    "# Q5. Creating test data\n",
    "\n",
    "!(cd integration; docker-compose up -d > /dev/null 2>&1)\n",
    "# !sleep 10\n",
    "!aws --endpoint-url $S3_ENDPOINT_URL s3 mb s3://nyc-duration\n",
    "!(cd integration; python -c'import integration_test; integration_test.prepare_test_data(2023, 1)')\n",
    "!echo files under s3://nyc-duration/in/ bucket\n",
    "!aws --endpoint-url $S3_ENDPOINT_URL s3 ls s3://nyc-duration/in/\n",
    "!(cd integration; docker-compose down > /dev/null 2>&1)\n",
    "\n"
   ]
  },
  {
   "cell_type": "code",
   "execution_count": null,
   "metadata": {
    "vscode": {
     "languageId": "shellscript"
    }
   },
   "outputs": [
    {
     "name": "stdout",
     "output_type": "stream",
     "text": [
      "\u001b[1A\u001b[1B\u001b[0G\u001b[?25l[+] Running 1/0\n",
      " \u001b[32m✔\u001b[0m Network integration_default         \u001b[32mCr...\u001b[0m                               \u001b[34m0.0s \u001b[0m\n",
      " \u001b[33m⠋\u001b[0m Container integration-localstack-1  Creating                            \u001b[34m0.1s \u001b[0m\n",
      "\u001b[?25h\u001b[1A\u001b[1A\u001b[1A\u001b[0G\u001b[?25l[+] Running 1/2\n",
      " \u001b[32m✔\u001b[0m Network integration_default         \u001b[32mCr...\u001b[0m                               \u001b[34m0.0s \u001b[0m\n",
      " \u001b[33m⠙\u001b[0m Container integration-localstack-1  Creating                            \u001b[34m0.2s \u001b[0m\n",
      "\u001b[?25h\u001b[1A\u001b[1A\u001b[1A\u001b[0G\u001b[?25l[+] Running 1/2\n",
      " \u001b[32m✔\u001b[0m Network integration_default         \u001b[32mCr...\u001b[0m                               \u001b[34m0.0s \u001b[0m\n",
      " \u001b[33m⠹\u001b[0m Container integration-localstack-1  Creating                            \u001b[34m0.3s \u001b[0m\n",
      "\u001b[?25h\u001b[1A\u001b[1A\u001b[1A\u001b[0G\u001b[?25l[+] Running 1/2\n",
      " \u001b[32m✔\u001b[0m Network integration_default         \u001b[32mCr...\u001b[0m                               \u001b[34m0.0s \u001b[0m\n",
      " \u001b[33m⠸\u001b[0m Container integration-localstack-1  Creating                            \u001b[34m0.4s \u001b[0m\n",
      "\u001b[?25h\u001b[1A\u001b[1A\u001b[1A\u001b[0G\u001b[?25l[+] Running 1/2\n",
      " \u001b[32m✔\u001b[0m Network integration_default         \u001b[32mCr...\u001b[0m                               \u001b[34m0.0s \u001b[0m\n",
      " \u001b[33m⠼\u001b[0m Container integration-localstack-1  Creating                            \u001b[34m0.5s \u001b[0m\n",
      "\u001b[?25h\u001b[1A\u001b[1A\u001b[1A\u001b[0G\u001b[?25l[+] Running 1/2\n",
      " \u001b[32m✔\u001b[0m Network integration_default         \u001b[32mCr...\u001b[0m                               \u001b[34m0.0s \u001b[0m\n",
      " \u001b[33m⠴\u001b[0m Container integration-localstack-1  Creating                            \u001b[34m0.6s \u001b[0m\n",
      "\u001b[?25h\u001b[1A\u001b[1A\u001b[1A\u001b[0G\u001b[?25l[+] Running 1/2\n",
      " \u001b[32m✔\u001b[0m Network integration_default         \u001b[32mCr...\u001b[0m                               \u001b[34m0.0s \u001b[0m\n",
      " \u001b[33m⠦\u001b[0m Container integration-localstack-1  Starting                            \u001b[34m0.7s \u001b[0m\n",
      "\u001b[?25h\u001b[1A\u001b[1A\u001b[1A\u001b[0G\u001b[?25l[+] Running 1/2\n",
      " \u001b[32m✔\u001b[0m Network integration_default         \u001b[32mCr...\u001b[0m                               \u001b[34m0.0s \u001b[0m\n",
      " \u001b[33m⠧\u001b[0m Container integration-localstack-1  Starting                            \u001b[34m0.8s \u001b[0m\n",
      "\u001b[?25h\u001b[1A\u001b[1A\u001b[1A\u001b[0G\u001b[?25l[+] Running 1/2\n",
      " \u001b[32m✔\u001b[0m Network integration_default         \u001b[32mCr...\u001b[0m                               \u001b[34m0.0s \u001b[0m\n",
      " \u001b[33m⠇\u001b[0m Container integration-localstack-1  Starting                            \u001b[34m0.9s \u001b[0m\n",
      "\u001b[?25h\u001b[1A\u001b[1A\u001b[1A\u001b[0G\u001b[?25l\u001b[34m[+] Running 2/2\u001b[0m\n",
      " \u001b[32m✔\u001b[0m Network integration_default         \u001b[32mCr...\u001b[0m                               \u001b[34m0.0s \u001b[0m\n",
      " \u001b[32m✔\u001b[0m Container integration-localstack-1  \u001b[32mStarted\u001b[0m                             \u001b[34m0.9s \u001b[0m\n",
      "\u001b[?25hmake_bucket: nyc-duration\n",
      "\u001b[32mCourtesy Notice\u001b[0m:\n",
      "Pipenv found itself running within a virtual environment,  so it will \n",
      "automatically use that environment, instead of  creating its own for any \n",
      "project. You can set\n",
      "\u001b[1;33mPIPENV_IGNORE_VIRTUALENVS\u001b[0m\u001b[1m=\u001b[0m\u001b[1;36m1\u001b[0m to force pipenv to ignore that environment and \n",
      "create  its own instead.\n",
      "You can set \u001b[1;33mPIPENV_VERBOSITY\u001b[0m\u001b[1m=\u001b[0m\u001b[1;36m-1\u001b[0m to suppress this warning.\n",
      "s3://nyc-duration/in/2023-01.parquet\n",
      "\n",
      " Initial data frame: \n",
      "    PULocationID  DOLocationID tpep_pickup_datetime tpep_dropoff_datetime\n",
      "0           NaN           NaN  2023-01-01 01:01:00   2023-01-01 01:10:00\n",
      "1           1.0           1.0  2023-01-01 01:02:00   2023-01-01 01:10:00\n",
      "2           1.0           NaN  2023-01-01 01:02:00   2023-01-01 01:02:59\n",
      "3           3.0           4.0  2023-01-01 01:02:00   2023-01-01 02:02:01\n",
      "2024-11-30 00:07:29       3185 2023-01.parquet\n",
      "\u001b[32mCourtesy Notice\u001b[0m:\n",
      "Pipenv found itself running within a virtual environment,  so it will \n",
      "automatically use that environment, instead of  creating its own for any \n",
      "project. You can set\n",
      "\u001b[1;33mPIPENV_IGNORE_VIRTUALENVS\u001b[0m\u001b[1m=\u001b[0m\u001b[1;36m1\u001b[0m to force pipenv to ignore that environment and \n",
      "create  its own instead.\n",
      "You can set \u001b[1;33mPIPENV_VERBOSITY\u001b[0m\u001b[1m=\u001b[0m\u001b[1;36m-1\u001b[0m to suppress this warning.\n",
      "Input file path: s3://nyc-duration/in/2023-01.parquet\n",
      "Output file path: s3://nyc-duration/out/2023-01.parquet\n",
      "sum of predicted durations: 36.27725045203073\n",
      "2024-11-30 00:07:32       1781 2023-01.parquet\n",
      "\u001b[1A\u001b[1B\u001b[0G\u001b[?25l[+] Running 0/0\n",
      " \u001b[33m⠋\u001b[0m Container integration-localstack-1  Stopping                            \u001b[34m0.1s \u001b[0m\n",
      "\u001b[?25h\u001b[1A\u001b[1A\u001b[0G\u001b[?25l[+] Running 0/1\n",
      " \u001b[33m⠙\u001b[0m Container integration-localstack-1  Stopping                            \u001b[34m0.2s \u001b[0m\n",
      "\u001b[?25h\u001b[1A\u001b[1A\u001b[0G\u001b[?25l[+] Running 0/1\n",
      " \u001b[33m⠹\u001b[0m Container integration-localstack-1  Stopping                            \u001b[34m0.3s \u001b[0m\n",
      "\u001b[?25h\u001b[1A\u001b[1A\u001b[0G\u001b[?25l[+] Running 0/1\n",
      " \u001b[33m⠸\u001b[0m Container integration-localstack-1  Stopping                            \u001b[34m0.4s \u001b[0m\n",
      "\u001b[?25h\u001b[1A\u001b[1A\u001b[0G\u001b[?25l[+] Running 0/1\n",
      " \u001b[33m⠼\u001b[0m Container integration-localstack-1  Stopping                            \u001b[34m0.5s \u001b[0m\n",
      "\u001b[?25h\u001b[1A\u001b[1A\u001b[0G\u001b[?25l[+] Running 0/1\n",
      " \u001b[33m⠴\u001b[0m Container integration-localstack-1  Stopping                            \u001b[34m0.6s \u001b[0m\n",
      "\u001b[?25h\u001b[1A\u001b[1A\u001b[0G\u001b[?25l[+] Running 0/1\n",
      " \u001b[33m⠦\u001b[0m Container integration-localstack-1  Stopping                            \u001b[34m0.7s \u001b[0m\n",
      "\u001b[?25h\u001b[1A\u001b[1A\u001b[0G\u001b[?25l[+] Running 0/1\n",
      " \u001b[33m⠧\u001b[0m Container integration-localstack-1  Stopping                            \u001b[34m0.8s \u001b[0m\n",
      "\u001b[?25h\u001b[1A\u001b[1A\u001b[0G\u001b[?25l[+] Running 0/1\n",
      " \u001b[33m⠇\u001b[0m Container integration-localstack-1  Stopping                            \u001b[34m0.9s \u001b[0m\n",
      "\u001b[?25h\u001b[1A\u001b[1A\u001b[0G\u001b[?25l[+] Running 0/1\n",
      " \u001b[33m⠏\u001b[0m Container integration-localstack-1  Stopping                            \u001b[34m1.0s \u001b[0m\n",
      "\u001b[?25h\u001b[1A\u001b[1A\u001b[0G\u001b[?25l[+] Running 0/1\n",
      " \u001b[33m⠋\u001b[0m Container integration-localstack-1  Stopping                            \u001b[34m1.1s \u001b[0m\n",
      "\u001b[?25h\u001b[1A\u001b[1A\u001b[0G\u001b[?25l[+] Running 0/1\n",
      " \u001b[33m⠙\u001b[0m Container integration-localstack-1  Stopping                            \u001b[34m1.2s \u001b[0m\n",
      "\u001b[?25h\u001b[1A\u001b[1A\u001b[0G\u001b[?25l[+] Running 0/1\n",
      " \u001b[33m⠹\u001b[0m Container integration-localstack-1  Stopping                            \u001b[34m1.3s \u001b[0m\n",
      "\u001b[?25h\u001b[1A\u001b[1A\u001b[0G\u001b[?25l[+] Running 0/1\n",
      " \u001b[33m⠸\u001b[0m Container integration-localstack-1  Stopping                            \u001b[34m1.4s \u001b[0m\n",
      "\u001b[?25h\u001b[1A\u001b[1A\u001b[0G\u001b[?25l[+] Running 0/1\n",
      " \u001b[33m⠼\u001b[0m Container integration-localstack-1  Stopping                            \u001b[34m1.5s \u001b[0m\n",
      "\u001b[?25h\u001b[1A\u001b[1A\u001b[0G\u001b[?25l[+] Running 0/1\n",
      " \u001b[33m⠴\u001b[0m Container integration-localstack-1  Stopping                            \u001b[34m1.6s \u001b[0m\n",
      "\u001b[?25h\u001b[1A\u001b[1A\u001b[0G\u001b[?25l[+] Running 0/1\n",
      " \u001b[33m⠦\u001b[0m Container integration-localstack-1  Stopping                            \u001b[34m1.7s \u001b[0m\n",
      "\u001b[?25h\u001b[1A\u001b[1A\u001b[0G\u001b[?25l[+] Running 0/1\n",
      " \u001b[33m⠧\u001b[0m Container integration-localstack-1  Stopping                            \u001b[34m1.8s \u001b[0m\n",
      "\u001b[?25h\u001b[1A\u001b[1A\u001b[0G\u001b[?25l[+] Running 0/1\n",
      " \u001b[33m⠇\u001b[0m Container integration-localstack-1  Stopping                            \u001b[34m1.9s \u001b[0m\n",
      "\u001b[?25h\u001b[1A\u001b[1A\u001b[0G\u001b[?25l[+] Running 0/1\n",
      " \u001b[33m⠏\u001b[0m Container integration-localstack-1  Stopping                            \u001b[34m2.0s \u001b[0m\n",
      "\u001b[?25h\u001b[1A\u001b[1A\u001b[0G\u001b[?25l[+] Running 0/1\n",
      " \u001b[33m⠋\u001b[0m Container integration-localstack-1  Stopping                            \u001b[34m2.1s \u001b[0m\n",
      "\u001b[?25h\u001b[1A\u001b[1A\u001b[0G\u001b[?25l[+] Running 0/1\n",
      " \u001b[33m⠙\u001b[0m Container integration-localstack-1  Stopping                            \u001b[34m2.2s \u001b[0m\n",
      "\u001b[?25h\u001b[1A\u001b[1A\u001b[0G\u001b[?25l[+] Running 0/1\n",
      " \u001b[33m⠹\u001b[0m Container integration-localstack-1  Stopping                            \u001b[34m2.3s \u001b[0m\n",
      "\u001b[?25h\u001b[1A\u001b[1A\u001b[0G\u001b[?25l[+] Running 0/1\n",
      " \u001b[33m⠸\u001b[0m Container integration-localstack-1  Stopping                            \u001b[34m2.4s \u001b[0m\n",
      "\u001b[?25h\u001b[1A\u001b[1A\u001b[0G\u001b[?25l[+] Running 0/1\n",
      " \u001b[33m⠼\u001b[0m Container integration-localstack-1  Stopping                            \u001b[34m2.5s \u001b[0m\n",
      "\u001b[?25h\u001b[1A\u001b[1A\u001b[0G\u001b[?25l[+] Running 0/1\n",
      " \u001b[33m⠴\u001b[0m Container integration-localstack-1  Stopping                            \u001b[34m2.6s \u001b[0m\n",
      "\u001b[?25h\u001b[1A\u001b[1A\u001b[0G\u001b[?25l[+] Running 0/1\n",
      " \u001b[33m⠦\u001b[0m Container integration-localstack-1  Stopping                            \u001b[34m2.7s \u001b[0m\n",
      "\u001b[?25h\u001b[1A\u001b[1A\u001b[0G\u001b[?25l[+] Running 0/1\n",
      " \u001b[33m⠧\u001b[0m Container integration-localstack-1  Stopping                            \u001b[34m2.8s \u001b[0m\n",
      "\u001b[?25h\u001b[1A\u001b[1A\u001b[0G\u001b[?25l[+] Running 0/1\n",
      " \u001b[33m⠇\u001b[0m Container integration-localstack-1  Stopping                            \u001b[34m2.9s \u001b[0m\n",
      "\u001b[?25h\u001b[1A\u001b[1A\u001b[0G\u001b[?25l[+] Running 0/1\n",
      " \u001b[33m⠏\u001b[0m Container integration-localstack-1  Stopping                            \u001b[34m3.0s \u001b[0m\n",
      "\u001b[?25h\u001b[1A\u001b[1A\u001b[0G\u001b[?25l[+] Running 0/1\n",
      " \u001b[33m⠋\u001b[0m Container integration-localstack-1  Stopping                            \u001b[34m3.1s \u001b[0m\n",
      "\u001b[?25h\u001b[1A\u001b[1A\u001b[0G\u001b[?25l[+] Running 0/1\n",
      " \u001b[33m⠙\u001b[0m Container integration-localstack-1  Stopping                            \u001b[34m3.2s \u001b[0m\n",
      "\u001b[?25h\u001b[1A\u001b[1A\u001b[0G\u001b[?25l[+] Running 0/1\n",
      " \u001b[33m⠹\u001b[0m Container integration-localstack-1  Stopping                            \u001b[34m3.3s \u001b[0m\n",
      "\u001b[?25h\u001b[1A\u001b[1A\u001b[0G\u001b[?25l[+] Running 0/1\n",
      " \u001b[33m⠸\u001b[0m Container integration-localstack-1  Stopping                            \u001b[34m3.4s \u001b[0m\n",
      "\u001b[?25h\u001b[1A\u001b[1A\u001b[0G\u001b[?25l[+] Running 0/1\n",
      " \u001b[33m⠼\u001b[0m Container integration-localstack-1  Stopping                            \u001b[34m3.5s \u001b[0m\n",
      "\u001b[?25h\u001b[1A\u001b[1A\u001b[0G\u001b[?25l[+] Running 0/1\n",
      " \u001b[33m⠴\u001b[0m Container integration-localstack-1  Stopping                            \u001b[34m3.6s \u001b[0m\n",
      "\u001b[?25h\u001b[1A\u001b[1A\u001b[0G\u001b[?25l[+] Running 0/1\n",
      " \u001b[33m⠦\u001b[0m Container integration-localstack-1  Stopping                            \u001b[34m3.7s \u001b[0m\n",
      "\u001b[?25h\u001b[1A\u001b[1A\u001b[0G\u001b[?25l[+] Running 0/1\n",
      " \u001b[33m⠧\u001b[0m Container integration-localstack-1  Stopping                            \u001b[34m3.8s \u001b[0m\n",
      "\u001b[?25h\u001b[1A\u001b[1A\u001b[0G\u001b[?25l[+] Running 0/1\n",
      " \u001b[33m⠇\u001b[0m Container integration-localstack-1  Stopping                            \u001b[34m3.9s \u001b[0m\n",
      "\u001b[?25h\u001b[1A\u001b[1A\u001b[0G\u001b[?25l[+] Running 0/1\n",
      " \u001b[33m⠏\u001b[0m Container integration-localstack-1  Stopping                            \u001b[34m4.0s \u001b[0m\n",
      "\u001b[?25h\u001b[1A\u001b[1A\u001b[0G\u001b[?25l[+] Running 0/1\n",
      " \u001b[33m⠋\u001b[0m Container integration-localstack-1  Stopping                            \u001b[34m4.1s \u001b[0m\n",
      "\u001b[?25h\u001b[1A\u001b[1A\u001b[0G\u001b[?25l[+] Running 0/1\n",
      " \u001b[33m⠙\u001b[0m Container integration-localstack-1  Stopping                            \u001b[34m4.2s \u001b[0m\n",
      "\u001b[?25h\u001b[1A\u001b[1A\u001b[0G\u001b[?25l\u001b[34m[+] Running 1/1\u001b[0m\n",
      " \u001b[32m✔\u001b[0m Container integration-localstack-1  \u001b[32mRemoved\u001b[0m                             \u001b[34m4.3s \u001b[0m\n",
      " \u001b[33m⠋\u001b[0m Network integration_default         Re...                               \u001b[34m0.0s \u001b[0m\n",
      "\u001b[?25h\u001b[1A\u001b[1A\u001b[1A\u001b[0G\u001b[?25l\u001b[34m[+] Running 2/2\u001b[0m\n",
      " \u001b[32m✔\u001b[0m Container integration-localstack-1  \u001b[32mRemoved\u001b[0m                             \u001b[34m4.3s \u001b[0m\n",
      " \u001b[32m✔\u001b[0m Network integration_default         \u001b[32mRe...\u001b[0m                               \u001b[34m0.1s \u001b[0m\n",
      "\u001b[?25h"
     ]
    }
   ],
   "source": [
    "# Q6. Finish the integration test\n",
    "!(cd integration; bash run.sh)\n"
   ]
  }
 ],
 "metadata": {
  "kernelspec": {
   "display_name": "06-best-practices-jYC0Hbh6",
   "language": "python",
   "name": "python3"
  },
  "language_info": {
   "codemirror_mode": {
    "name": "ipython",
    "version": 3
   },
   "file_extension": ".py",
   "mimetype": "text/x-python",
   "name": "python",
   "nbconvert_exporter": "python",
   "pygments_lexer": "ipython3",
   "version": "3.10.15"
  }
 },
 "nbformat": 4,
 "nbformat_minor": 2
}
