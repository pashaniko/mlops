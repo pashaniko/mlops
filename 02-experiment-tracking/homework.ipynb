{
 "cells": [
  {
   "cell_type": "code",
   "execution_count": null,
   "metadata": {},
   "outputs": [
    {
     "name": "stdout",
     "output_type": "stream",
     "text": [
      "mlflow, version 2.17.2\n"
     ]
    }
   ],
   "source": [
    "## Q1. Install MLflow\n",
    "!mlflow --version"
   ]
  },
  {
   "cell_type": "code",
   "execution_count": null,
   "metadata": {},
   "outputs": [],
   "source": [
    "## Q2. Download and preprocess the data\n",
    "!python preprocess_data.py --raw_data_path data --dest_path ./output"
   ]
  },
  {
   "cell_type": "code",
   "execution_count": null,
   "metadata": {},
   "outputs": [
    {
     "name": "stdout",
     "output_type": "stream",
     "text": [
      "2024/11/20 11:54:18 WARNING mlflow.sklearn: Failed to log training dataset information to MLflow Tracking. Reason: 'numpy.ndarray' object has no attribute 'toarray'\n",
      "/home/codespace/anaconda3/envs/exp-tracking-env/lib/python3.9/site-packages/sklearn/metrics/_regression.py:492: FutureWarning: 'squared' is deprecated in version 1.4 and will be removed in 1.6. To calculate the root mean squared error, use the function'root_mean_squared_error'.\n",
      "  warnings.warn(\n",
      "2024/11/20 11:54:36 INFO mlflow.tracking._tracking_service.client: 🏃 View run whimsical-duck-368 at: http://127.0.0.1:5000/#/experiments/2/runs/c8854f207ca64037bd1cd24cb5ba7b26.\n",
      "2024/11/20 11:54:36 INFO mlflow.tracking._tracking_service.client: 🧪 View experiment at: http://127.0.0.1:5000/#/experiments/2.\n"
     ]
    }
   ],
   "source": [
    "## Q3. Train a model with autolog\n",
    "!python train.py"
   ]
  },
  {
   "cell_type": "code",
   "execution_count": 8,
   "metadata": {},
   "outputs": [],
   "source": [
    "## Q4. Launch the tracking server locally\n",
    "# !mlflow server --backend-store-uri sqlite:///mlflow.db --default-artifact-root ./artifacts"
   ]
  },
  {
   "cell_type": "code",
   "execution_count": 9,
   "metadata": {},
   "outputs": [
    {
     "name": "stdout",
     "output_type": "stream",
     "text": [
      "  0%|                                    | 0/15 [00:00<?, ?trial/s, best loss=?]/home/codespace/anaconda3/envs/exp-tracking-env/lib/python3.9/site-packages/sklearn/metrics/_regression.py:492: FutureWarning: 'squared' is deprecated in version 1.4 and will be removed in 1.6. To calculate the root mean squared error, use the function'root_mean_squared_error'.\n",
      "  warnings.warn(\n",
      "\n",
      "2024/11/20 11:59:52 INFO mlflow.tracking._tracking_service.client: 🏃 View run salty-fox-444 at: http://127.0.0.1:5000/#/experiments/3/runs/5444e13987e94ca5849f84c32db248a3.\n",
      "\n",
      "2024/11/20 11:59:52 INFO mlflow.tracking._tracking_service.client: 🧪 View experiment at: http://127.0.0.1:5000/#/experiments/3.\n",
      "\n",
      "  7%|▋          | 1/15 [00:08<01:52,  8.00s/trial, best loss: 5.370086069268862]/home/codespace/anaconda3/envs/exp-tracking-env/lib/python3.9/site-packages/sklearn/metrics/_regression.py:492: FutureWarning: 'squared' is deprecated in version 1.4 and will be removed in 1.6. To calculate the root mean squared error, use the function'root_mean_squared_error'.\n",
      "  warnings.warn(\n",
      "\n",
      "2024/11/20 11:59:52 INFO mlflow.tracking._tracking_service.client: 🏃 View run melodic-goose-980 at: http://127.0.0.1:5000/#/experiments/3/runs/cd8ed23a366243a4bacb390242b7cd9d.\n",
      "\n",
      "2024/11/20 11:59:52 INFO mlflow.tracking._tracking_service.client: 🧪 View experiment at: http://127.0.0.1:5000/#/experiments/3.\n",
      "\n",
      " 13%|█▍         | 2/15 [00:08<00:45,  3.53s/trial, best loss: 5.370086069268862]/home/codespace/anaconda3/envs/exp-tracking-env/lib/python3.9/site-packages/sklearn/metrics/_regression.py:492: FutureWarning: 'squared' is deprecated in version 1.4 and will be removed in 1.6. To calculate the root mean squared error, use the function'root_mean_squared_error'.\n",
      "  warnings.warn(\n",
      "\n",
      "2024/11/20 11:59:53 INFO mlflow.tracking._tracking_service.client: 🏃 View run righteous-kit-623 at: http://127.0.0.1:5000/#/experiments/3/runs/50da37186a74401fad8e34d1ea2289bd.\n",
      "\n",
      "2024/11/20 11:59:53 INFO mlflow.tracking._tracking_service.client: 🧪 View experiment at: http://127.0.0.1:5000/#/experiments/3.\n",
      "\n",
      " 20%|██▏        | 3/15 [00:08<00:26,  2.18s/trial, best loss: 5.370086069268862]/home/codespace/anaconda3/envs/exp-tracking-env/lib/python3.9/site-packages/sklearn/metrics/_regression.py:492: FutureWarning: 'squared' is deprecated in version 1.4 and will be removed in 1.6. To calculate the root mean squared error, use the function'root_mean_squared_error'.\n",
      "  warnings.warn(\n",
      "\n",
      "2024/11/20 11:59:58 INFO mlflow.tracking._tracking_service.client: 🏃 View run intelligent-rat-968 at: http://127.0.0.1:5000/#/experiments/3/runs/e906ece7af864f14bda916964d8a55eb.\n",
      "\n",
      "2024/11/20 11:59:58 INFO mlflow.tracking._tracking_service.client: 🧪 View experiment at: http://127.0.0.1:5000/#/experiments/3.\n",
      "\n",
      " 27%|██▉        | 4/15 [00:14<00:37,  3.43s/trial, best loss: 5.357490752366866]/home/codespace/anaconda3/envs/exp-tracking-env/lib/python3.9/site-packages/sklearn/metrics/_regression.py:492: FutureWarning: 'squared' is deprecated in version 1.4 and will be removed in 1.6. To calculate the root mean squared error, use the function'root_mean_squared_error'.\n",
      "  warnings.warn(\n",
      "\n",
      "2024/11/20 12:00:01 INFO mlflow.tracking._tracking_service.client: 🏃 View run bustling-penguin-932 at: http://127.0.0.1:5000/#/experiments/3/runs/55dde7e4bfad463db9ed98703627f72b.\n",
      "\n",
      "2024/11/20 12:00:01 INFO mlflow.tracking._tracking_service.client: 🧪 View experiment at: http://127.0.0.1:5000/#/experiments/3.\n",
      "\n",
      " 33%|███▋       | 5/15 [00:16<00:31,  3.11s/trial, best loss: 5.357490752366866]/home/codespace/anaconda3/envs/exp-tracking-env/lib/python3.9/site-packages/sklearn/metrics/_regression.py:492: FutureWarning: 'squared' is deprecated in version 1.4 and will be removed in 1.6. To calculate the root mean squared error, use the function'root_mean_squared_error'.\n",
      "  warnings.warn(\n",
      "\n",
      "2024/11/20 12:00:10 INFO mlflow.tracking._tracking_service.client: 🏃 View run clean-rat-25 at: http://127.0.0.1:5000/#/experiments/3/runs/e6b261c214c149df87d3dccdca70d7ba.\n",
      "\n",
      "2024/11/20 12:00:10 INFO mlflow.tracking._tracking_service.client: 🧪 View experiment at: http://127.0.0.1:5000/#/experiments/3.\n",
      "\n",
      " 40%|████▍      | 6/15 [00:26<00:46,  5.19s/trial, best loss: 5.354695072530291]/home/codespace/anaconda3/envs/exp-tracking-env/lib/python3.9/site-packages/sklearn/metrics/_regression.py:492: FutureWarning: 'squared' is deprecated in version 1.4 and will be removed in 1.6. To calculate the root mean squared error, use the function'root_mean_squared_error'.\n",
      "  warnings.warn(\n",
      "\n",
      "2024/11/20 12:00:19 INFO mlflow.tracking._tracking_service.client: 🏃 View run trusting-gnat-512 at: http://127.0.0.1:5000/#/experiments/3/runs/b126f5add9244438844105f575b053da.\n",
      "\n",
      "2024/11/20 12:00:19 INFO mlflow.tracking._tracking_service.client: 🧪 View experiment at: http://127.0.0.1:5000/#/experiments/3.\n",
      "\n",
      " 47%|█████▏     | 7/15 [00:35<00:51,  6.48s/trial, best loss: 5.354695072530291]/home/codespace/anaconda3/envs/exp-tracking-env/lib/python3.9/site-packages/sklearn/metrics/_regression.py:492: FutureWarning: 'squared' is deprecated in version 1.4 and will be removed in 1.6. To calculate the root mean squared error, use the function'root_mean_squared_error'.\n",
      "  warnings.warn(\n",
      "\n",
      "2024/11/20 12:00:20 INFO mlflow.tracking._tracking_service.client: 🏃 View run righteous-stork-343 at: http://127.0.0.1:5000/#/experiments/3/runs/f14fbefd382647988caf1093e73dda72.\n",
      "\n",
      "2024/11/20 12:00:20 INFO mlflow.tracking._tracking_service.client: 🧪 View experiment at: http://127.0.0.1:5000/#/experiments/3.\n",
      "\n",
      " 53%|█████▊     | 8/15 [00:36<00:32,  4.71s/trial, best loss: 5.354695072530291]/home/codespace/anaconda3/envs/exp-tracking-env/lib/python3.9/site-packages/sklearn/metrics/_regression.py:492: FutureWarning: 'squared' is deprecated in version 1.4 and will be removed in 1.6. To calculate the root mean squared error, use the function'root_mean_squared_error'.\n",
      "  warnings.warn(\n",
      "\n",
      "2024/11/20 12:00:25 INFO mlflow.tracking._tracking_service.client: 🏃 View run luminous-whale-466 at: http://127.0.0.1:5000/#/experiments/3/runs/039845c79ba14f859c1d7d41e6e92db7.\n",
      "\n",
      "2024/11/20 12:00:25 INFO mlflow.tracking._tracking_service.client: 🧪 View experiment at: http://127.0.0.1:5000/#/experiments/3.\n",
      "\n",
      " 60%|██████▌    | 9/15 [00:41<00:29,  4.97s/trial, best loss: 5.354695072530291]/home/codespace/anaconda3/envs/exp-tracking-env/lib/python3.9/site-packages/sklearn/metrics/_regression.py:492: FutureWarning: 'squared' is deprecated in version 1.4 and will be removed in 1.6. To calculate the root mean squared error, use the function'root_mean_squared_error'.\n",
      "  warnings.warn(\n",
      "\n",
      "2024/11/20 12:00:30 INFO mlflow.tracking._tracking_service.client: 🏃 View run industrious-skink-57 at: http://127.0.0.1:5000/#/experiments/3/runs/8a391810d1974ba18365d19ee8d4d456.\n",
      "\n",
      "2024/11/20 12:00:30 INFO mlflow.tracking._tracking_service.client: 🧪 View experiment at: http://127.0.0.1:5000/#/experiments/3.\n",
      "\n",
      " 67%|██████▋   | 10/15 [00:46<00:24,  4.85s/trial, best loss: 5.354695072530291]/home/codespace/anaconda3/envs/exp-tracking-env/lib/python3.9/site-packages/sklearn/metrics/_regression.py:492: FutureWarning: 'squared' is deprecated in version 1.4 and will be removed in 1.6. To calculate the root mean squared error, use the function'root_mean_squared_error'.\n",
      "  warnings.warn(\n",
      "\n",
      "2024/11/20 12:00:34 INFO mlflow.tracking._tracking_service.client: 🏃 View run gregarious-grub-372 at: http://127.0.0.1:5000/#/experiments/3/runs/440fc1dad44e49d491b2b203cc88221c.\n",
      "\n",
      "2024/11/20 12:00:34 INFO mlflow.tracking._tracking_service.client: 🧪 View experiment at: http://127.0.0.1:5000/#/experiments/3.\n",
      "\n",
      " 73%|███████▎  | 11/15 [00:49<00:17,  4.47s/trial, best loss: 5.335419588556921]/home/codespace/anaconda3/envs/exp-tracking-env/lib/python3.9/site-packages/sklearn/metrics/_regression.py:492: FutureWarning: 'squared' is deprecated in version 1.4 and will be removed in 1.6. To calculate the root mean squared error, use the function'root_mean_squared_error'.\n",
      "  warnings.warn(\n",
      "\n",
      "2024/11/20 12:00:36 INFO mlflow.tracking._tracking_service.client: 🏃 View run debonair-goose-343 at: http://127.0.0.1:5000/#/experiments/3/runs/40e14890a67840328f2b8fcfa5e62fa5.\n",
      "\n",
      "2024/11/20 12:00:36 INFO mlflow.tracking._tracking_service.client: 🧪 View experiment at: http://127.0.0.1:5000/#/experiments/3.\n",
      "\n",
      " 80%|████████  | 12/15 [00:52<00:11,  3.93s/trial, best loss: 5.335419588556921]/home/codespace/anaconda3/envs/exp-tracking-env/lib/python3.9/site-packages/sklearn/metrics/_regression.py:492: FutureWarning: 'squared' is deprecated in version 1.4 and will be removed in 1.6. To calculate the root mean squared error, use the function'root_mean_squared_error'.\n",
      "  warnings.warn(\n",
      "\n",
      "2024/11/20 12:00:37 INFO mlflow.tracking._tracking_service.client: 🏃 View run incongruous-frog-781 at: http://127.0.0.1:5000/#/experiments/3/runs/40cddc29f6e64aaead2d2f7583b94b81.\n",
      "\n",
      "2024/11/20 12:00:37 INFO mlflow.tracking._tracking_service.client: 🧪 View experiment at: http://127.0.0.1:5000/#/experiments/3.\n",
      "\n",
      " 87%|████████▋ | 13/15 [00:53<00:06,  3.04s/trial, best loss: 5.335419588556921]/home/codespace/anaconda3/envs/exp-tracking-env/lib/python3.9/site-packages/sklearn/metrics/_regression.py:492: FutureWarning: 'squared' is deprecated in version 1.4 and will be removed in 1.6. To calculate the root mean squared error, use the function'root_mean_squared_error'.\n",
      "  warnings.warn(\n",
      "\n",
      "2024/11/20 12:00:41 INFO mlflow.tracking._tracking_service.client: 🏃 View run delightful-shoat-738 at: http://127.0.0.1:5000/#/experiments/3/runs/0f9fa7562c4245e8810b0d30e78a2be6.\n",
      "\n",
      "2024/11/20 12:00:41 INFO mlflow.tracking._tracking_service.client: 🧪 View experiment at: http://127.0.0.1:5000/#/experiments/3.\n",
      "\n",
      " 93%|█████████▎| 14/15 [00:56<00:03,  3.11s/trial, best loss: 5.335419588556921]/home/codespace/anaconda3/envs/exp-tracking-env/lib/python3.9/site-packages/sklearn/metrics/_regression.py:492: FutureWarning: 'squared' is deprecated in version 1.4 and will be removed in 1.6. To calculate the root mean squared error, use the function'root_mean_squared_error'.\n",
      "  warnings.warn(\n",
      "\n",
      "2024/11/20 12:00:46 INFO mlflow.tracking._tracking_service.client: 🏃 View run rare-doe-883 at: http://127.0.0.1:5000/#/experiments/3/runs/591d0c971a5a46be830fa7932de357ca.\n",
      "\n",
      "2024/11/20 12:00:46 INFO mlflow.tracking._tracking_service.client: 🧪 View experiment at: http://127.0.0.1:5000/#/experiments/3.\n",
      "\n",
      "100%|██████████| 15/15 [01:02<00:00,  4.15s/trial, best loss: 5.335419588556921]\n"
     ]
    }
   ],
   "source": [
    "## Q5. Tune model hyperparameters\n",
    "!python hpo.py"
   ]
  },
  {
   "cell_type": "code",
   "execution_count": 10,
   "metadata": {},
   "outputs": [
    {
     "name": "stdout",
     "output_type": "stream",
     "text": [
      "2024/11/20 12:01:03 WARNING mlflow.sklearn: Failed to log training dataset information to MLflow Tracking. Reason: 'numpy.ndarray' object has no attribute 'toarray'\n",
      "/home/codespace/anaconda3/envs/exp-tracking-env/lib/python3.9/site-packages/sklearn/metrics/_regression.py:492: FutureWarning: 'squared' is deprecated in version 1.4 and will be removed in 1.6. To calculate the root mean squared error, use the function'root_mean_squared_error'.\n",
      "  warnings.warn(\n"
     ]
    }
   ],
   "source": [
    "## Q6. Promote the best model to the model registry\n",
    "!python register_model.py"
   ]
  }
 ],
 "metadata": {
  "kernelspec": {
   "display_name": "Python 3",
   "language": "python",
   "name": "python3"
  },
  "language_info": {
   "codemirror_mode": {
    "name": "ipython",
    "version": 3
   },
   "file_extension": ".py",
   "mimetype": "text/x-python",
   "name": "python",
   "nbconvert_exporter": "python",
   "pygments_lexer": "ipython3",
   "version": "3.9.20"
  }
 },
 "nbformat": 4,
 "nbformat_minor": 2
}
